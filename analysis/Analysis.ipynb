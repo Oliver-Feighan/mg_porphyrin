{
 "cells": [
  {
   "cell_type": "markdown",
   "metadata": {},
   "source": [
    "# Analysis"
   ]
  },
  {
   "cell_type": "code",
   "execution_count": 2,
   "metadata": {},
   "outputs": [],
   "source": [
    "import json\n",
    "import numpy as np\n",
    "import pandas as pd"
   ]
  },
  {
   "cell_type": "code",
   "execution_count": 27,
   "metadata": {},
   "outputs": [
    {
     "name": "stdout",
     "output_type": "stream",
     "text": [
      "3\n",
      "\n",
      "O 0 0  0\n",
      "H 0 0  1\n",
      "H 0 0 -1"
     ]
    }
   ],
   "source": [
    "%%bash\n",
    "\n",
    "cat water.xyz"
   ]
  },
  {
   "cell_type": "code",
   "execution_count": 42,
   "metadata": {},
   "outputs": [
    {
     "data": {
      "text/plain": [
       "0.0"
      ]
     },
     "execution_count": 42,
     "metadata": {},
     "output_type": "execute_result"
    }
   ],
   "source": [
    "def read_xyz(file_name):\n",
    "    df = pd.read_csv(file_name, delim_whitespace=True, skiprows=[0, 1], header=None)\n",
    "\n",
    "    return np.array(df)\n",
    "\n",
    "water = read_xyz(\"water.xyz\")\n",
    "\n",
    "def RMSD(arr_1, arr_2):\n",
    "    drop_labels = lambda x : x[:, 1:]\n",
    "\n",
    "    xyz_1 = drop_labels(arr_1)\n",
    "    xyz_2 = drop_labels(arr_2)\n",
    "    \n",
    "    from numpy import mean, sqrt, square\n",
    "    \n",
    "    return sqrt(mean(square(xyz_1 - xyz_2)))\n",
    "    \n",
    "    \n",
    "RMSD(water,water)"
   ]
  },
  {
   "cell_type": "code",
   "execution_count": null,
   "metadata": {},
   "outputs": [],
   "source": []
  }
 ],
 "metadata": {
  "kernelspec": {
   "display_name": "Python 3",
   "language": "python",
   "name": "python3"
  },
  "language_info": {
   "codemirror_mode": {
    "name": "ipython",
    "version": 3
   },
   "file_extension": ".py",
   "mimetype": "text/x-python",
   "name": "python",
   "nbconvert_exporter": "python",
   "pygments_lexer": "ipython3",
   "version": "3.7.4"
  }
 },
 "nbformat": 4,
 "nbformat_minor": 2
}
